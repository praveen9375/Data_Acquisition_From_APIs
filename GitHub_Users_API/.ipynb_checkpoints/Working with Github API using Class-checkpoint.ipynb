{
 "cells": [
  {
   "cell_type": "code",
   "execution_count": 19,
   "id": "4bdea070",
   "metadata": {},
   "outputs": [],
   "source": [
    "import requests\n",
    "from requests import Session\n",
    "import csv\n",
    "import json"
   ]
  },
  {
   "cell_type": "code",
   "execution_count": 5,
   "id": "8716b36b",
   "metadata": {},
   "outputs": [],
   "source": [
    "token ='762ec1e51942472493745433230706'"
   ]
  },
  {
   "cell_type": "code",
   "execution_count": 20,
   "id": "ec47006f",
   "metadata": {},
   "outputs": [
    {
     "ename": "JSONDecodeError",
     "evalue": "Expecting value: line 1 column 1 (char 0)",
     "output_type": "error",
     "traceback": [
      "\u001b[1;31m---------------------------------------------------------------------------\u001b[0m",
      "\u001b[1;31mJSONDecodeError\u001b[0m                           Traceback (most recent call last)",
      "\u001b[1;32m~\\AppData\\Local\\Temp\\ipykernel_3840\\3144828163.py\u001b[0m in \u001b[0;36m<module>\u001b[1;34m\u001b[0m\n\u001b[0;32m     14\u001b[0m \u001b[1;33m\u001b[0m\u001b[0m\n\u001b[0;32m     15\u001b[0m \u001b[0mmausam\u001b[0m \u001b[1;33m=\u001b[0m \u001b[0mweather\u001b[0m\u001b[1;33m(\u001b[0m\u001b[0mtoken\u001b[0m\u001b[1;33m)\u001b[0m\u001b[1;33m\u001b[0m\u001b[1;33m\u001b[0m\u001b[0m\n\u001b[1;32m---> 16\u001b[1;33m \u001b[0mcurr_weather\u001b[0m \u001b[1;33m=\u001b[0m \u001b[0mmausam\u001b[0m\u001b[1;33m.\u001b[0m\u001b[0mcurrent_weather\u001b[0m\u001b[1;33m(\u001b[0m\u001b[0mlocation\u001b[0m\u001b[1;33m,\u001b[0m\u001b[0maqi\u001b[0m\u001b[1;33m=\u001b[0m\u001b[1;32mTrue\u001b[0m\u001b[1;33m)\u001b[0m\u001b[1;33m\u001b[0m\u001b[1;33m\u001b[0m\u001b[0m\n\u001b[0m\u001b[0;32m     17\u001b[0m \u001b[0mprint\u001b[0m\u001b[1;33m(\u001b[0m\u001b[0mcurr_weather\u001b[0m\u001b[1;33m)\u001b[0m\u001b[1;33m\u001b[0m\u001b[1;33m\u001b[0m\u001b[0m\n",
      "\u001b[1;32m~\\AppData\\Local\\Temp\\ipykernel_3840\\3144828163.py\u001b[0m in \u001b[0;36mcurrent_weather\u001b[1;34m(self, location, aqi)\u001b[0m\n\u001b[0;32m     10\u001b[0m         \u001b[0murl\u001b[0m \u001b[1;33m=\u001b[0m \u001b[1;34mf\"{self.url}current.json?key={self.key}&q={location}&aqi={'yes' if aqi else 'no'}\"\u001b[0m\u001b[1;33m\u001b[0m\u001b[1;33m\u001b[0m\u001b[0m\n\u001b[0;32m     11\u001b[0m         \u001b[0mr\u001b[0m \u001b[1;33m=\u001b[0m \u001b[0mself\u001b[0m\u001b[1;33m.\u001b[0m\u001b[0msession\u001b[0m\u001b[1;33m.\u001b[0m\u001b[0mget\u001b[0m\u001b[1;33m(\u001b[0m\u001b[0murl\u001b[0m\u001b[1;33m)\u001b[0m\u001b[1;33m\u001b[0m\u001b[1;33m\u001b[0m\u001b[0m\n\u001b[1;32m---> 12\u001b[1;33m         \u001b[0mdata\u001b[0m \u001b[1;33m=\u001b[0m \u001b[0mjson\u001b[0m\u001b[1;33m.\u001b[0m\u001b[0mloads\u001b[0m\u001b[1;33m(\u001b[0m\u001b[0mresponse\u001b[0m\u001b[1;33m.\u001b[0m\u001b[0mtext\u001b[0m\u001b[1;33m)\u001b[0m\u001b[1;33m\u001b[0m\u001b[1;33m\u001b[0m\u001b[0m\n\u001b[0m\u001b[0;32m     13\u001b[0m         \u001b[1;32mreturn\u001b[0m \u001b[0mdata\u001b[0m\u001b[1;33m\u001b[0m\u001b[1;33m\u001b[0m\u001b[0m\n\u001b[0;32m     14\u001b[0m \u001b[1;33m\u001b[0m\u001b[0m\n",
      "\u001b[1;32m~\\anaconda3\\lib\\json\\__init__.py\u001b[0m in \u001b[0;36mloads\u001b[1;34m(s, cls, object_hook, parse_float, parse_int, parse_constant, object_pairs_hook, **kw)\u001b[0m\n\u001b[0;32m    344\u001b[0m             \u001b[0mparse_int\u001b[0m \u001b[1;32mis\u001b[0m \u001b[1;32mNone\u001b[0m \u001b[1;32mand\u001b[0m \u001b[0mparse_float\u001b[0m \u001b[1;32mis\u001b[0m \u001b[1;32mNone\u001b[0m \u001b[1;32mand\u001b[0m\u001b[1;33m\u001b[0m\u001b[1;33m\u001b[0m\u001b[0m\n\u001b[0;32m    345\u001b[0m             parse_constant is None and object_pairs_hook is None and not kw):\n\u001b[1;32m--> 346\u001b[1;33m         \u001b[1;32mreturn\u001b[0m \u001b[0m_default_decoder\u001b[0m\u001b[1;33m.\u001b[0m\u001b[0mdecode\u001b[0m\u001b[1;33m(\u001b[0m\u001b[0ms\u001b[0m\u001b[1;33m)\u001b[0m\u001b[1;33m\u001b[0m\u001b[1;33m\u001b[0m\u001b[0m\n\u001b[0m\u001b[0;32m    347\u001b[0m     \u001b[1;32mif\u001b[0m \u001b[0mcls\u001b[0m \u001b[1;32mis\u001b[0m \u001b[1;32mNone\u001b[0m\u001b[1;33m:\u001b[0m\u001b[1;33m\u001b[0m\u001b[1;33m\u001b[0m\u001b[0m\n\u001b[0;32m    348\u001b[0m         \u001b[0mcls\u001b[0m \u001b[1;33m=\u001b[0m \u001b[0mJSONDecoder\u001b[0m\u001b[1;33m\u001b[0m\u001b[1;33m\u001b[0m\u001b[0m\n",
      "\u001b[1;32m~\\anaconda3\\lib\\json\\decoder.py\u001b[0m in \u001b[0;36mdecode\u001b[1;34m(self, s, _w)\u001b[0m\n\u001b[0;32m    335\u001b[0m \u001b[1;33m\u001b[0m\u001b[0m\n\u001b[0;32m    336\u001b[0m         \"\"\"\n\u001b[1;32m--> 337\u001b[1;33m         \u001b[0mobj\u001b[0m\u001b[1;33m,\u001b[0m \u001b[0mend\u001b[0m \u001b[1;33m=\u001b[0m \u001b[0mself\u001b[0m\u001b[1;33m.\u001b[0m\u001b[0mraw_decode\u001b[0m\u001b[1;33m(\u001b[0m\u001b[0ms\u001b[0m\u001b[1;33m,\u001b[0m \u001b[0midx\u001b[0m\u001b[1;33m=\u001b[0m\u001b[0m_w\u001b[0m\u001b[1;33m(\u001b[0m\u001b[0ms\u001b[0m\u001b[1;33m,\u001b[0m \u001b[1;36m0\u001b[0m\u001b[1;33m)\u001b[0m\u001b[1;33m.\u001b[0m\u001b[0mend\u001b[0m\u001b[1;33m(\u001b[0m\u001b[1;33m)\u001b[0m\u001b[1;33m)\u001b[0m\u001b[1;33m\u001b[0m\u001b[1;33m\u001b[0m\u001b[0m\n\u001b[0m\u001b[0;32m    338\u001b[0m         \u001b[0mend\u001b[0m \u001b[1;33m=\u001b[0m \u001b[0m_w\u001b[0m\u001b[1;33m(\u001b[0m\u001b[0ms\u001b[0m\u001b[1;33m,\u001b[0m \u001b[0mend\u001b[0m\u001b[1;33m)\u001b[0m\u001b[1;33m.\u001b[0m\u001b[0mend\u001b[0m\u001b[1;33m(\u001b[0m\u001b[1;33m)\u001b[0m\u001b[1;33m\u001b[0m\u001b[1;33m\u001b[0m\u001b[0m\n\u001b[0;32m    339\u001b[0m         \u001b[1;32mif\u001b[0m \u001b[0mend\u001b[0m \u001b[1;33m!=\u001b[0m \u001b[0mlen\u001b[0m\u001b[1;33m(\u001b[0m\u001b[0ms\u001b[0m\u001b[1;33m)\u001b[0m\u001b[1;33m:\u001b[0m\u001b[1;33m\u001b[0m\u001b[1;33m\u001b[0m\u001b[0m\n",
      "\u001b[1;32m~\\anaconda3\\lib\\json\\decoder.py\u001b[0m in \u001b[0;36mraw_decode\u001b[1;34m(self, s, idx)\u001b[0m\n\u001b[0;32m    353\u001b[0m             \u001b[0mobj\u001b[0m\u001b[1;33m,\u001b[0m \u001b[0mend\u001b[0m \u001b[1;33m=\u001b[0m \u001b[0mself\u001b[0m\u001b[1;33m.\u001b[0m\u001b[0mscan_once\u001b[0m\u001b[1;33m(\u001b[0m\u001b[0ms\u001b[0m\u001b[1;33m,\u001b[0m \u001b[0midx\u001b[0m\u001b[1;33m)\u001b[0m\u001b[1;33m\u001b[0m\u001b[1;33m\u001b[0m\u001b[0m\n\u001b[0;32m    354\u001b[0m         \u001b[1;32mexcept\u001b[0m \u001b[0mStopIteration\u001b[0m \u001b[1;32mas\u001b[0m \u001b[0merr\u001b[0m\u001b[1;33m:\u001b[0m\u001b[1;33m\u001b[0m\u001b[1;33m\u001b[0m\u001b[0m\n\u001b[1;32m--> 355\u001b[1;33m             \u001b[1;32mraise\u001b[0m \u001b[0mJSONDecodeError\u001b[0m\u001b[1;33m(\u001b[0m\u001b[1;34m\"Expecting value\"\u001b[0m\u001b[1;33m,\u001b[0m \u001b[0ms\u001b[0m\u001b[1;33m,\u001b[0m \u001b[0merr\u001b[0m\u001b[1;33m.\u001b[0m\u001b[0mvalue\u001b[0m\u001b[1;33m)\u001b[0m \u001b[1;32mfrom\u001b[0m \u001b[1;32mNone\u001b[0m\u001b[1;33m\u001b[0m\u001b[1;33m\u001b[0m\u001b[0m\n\u001b[0m\u001b[0;32m    356\u001b[0m         \u001b[1;32mreturn\u001b[0m \u001b[0mobj\u001b[0m\u001b[1;33m,\u001b[0m \u001b[0mend\u001b[0m\u001b[1;33m\u001b[0m\u001b[1;33m\u001b[0m\u001b[0m\n",
      "\u001b[1;31mJSONDecodeError\u001b[0m: Expecting value: line 1 column 1 (char 0)"
     ]
    }
   ],
   "source": [
    "location = 'Kathmandu'\n",
    "\n",
    "class weather:\n",
    "    def __init__(self,token):\n",
    "        self.url = 'http://api.weatherapi.com/v1'\n",
    "        self.session = Session()\n",
    "        self.key = token\n",
    "        \n",
    "    def current_weather(self,location,aqi=False):\n",
    "        url = f\"{self.url}current.json?key={self.key}&q={location}&aqi={'yes' if aqi else 'no'}\"\n",
    "        r = self.session.get(url)\n",
    "        data = json.loads(response.text)\n",
    "        return data\n",
    "\n",
    "mausam = weather(token)\n",
    "curr_weather = mausam.current_weather(location,aqi=True)\n",
    "print(curr_weather)"
   ]
  },
  {
   "cell_type": "code",
   "execution_count": 22,
   "id": "4f614077",
   "metadata": {},
   "outputs": [
    {
     "name": "stdout",
     "output_type": "stream",
     "text": [
      "Request error: 403\n",
      "None\n"
     ]
    }
   ],
   "source": [
    "from requests import Session\n",
    "import json\n",
    "\n",
    "class weather:\n",
    "    def __init__(self, token):\n",
    "        self.url = 'http://api.weatherapi.com/v1/'\n",
    "        self.session = Session()\n",
    "        self.key = token\n",
    "        \n",
    "    def current_weather(self, location, aqi=False):\n",
    "        url = f\"{self.url}current.json?key={self.key}&q={location}&aqi={'yes' if aqi else 'no'}\"\n",
    "        response = self.session.get(url)\n",
    "        if response.status_code == 200:\n",
    "            data = response.json()\n",
    "            if 'error' in data:\n",
    "                print(\"Error:\", data['error']['message'])\n",
    "                return None\n",
    "            else:\n",
    "                return data\n",
    "        else:\n",
    "            print(\"Request error:\", response.status_code)\n",
    "            return None\n",
    "\n",
    "token = 'your_api_key'\n",
    "location = 'Kathmandu'\n",
    "\n",
    "mausam = weather(token)\n",
    "curr_weather = mausam.current_weather(location, aqi=True)\n",
    "print(curr_weather)\n"
   ]
  },
  {
   "cell_type": "code",
   "execution_count": 26,
   "id": "72a38678",
   "metadata": {},
   "outputs": [
    {
     "name": "stdout",
     "output_type": "stream",
     "text": [
      "{'login': 'praveen9375', 'id': 48412124, 'node_id': 'MDQ6VXNlcjQ4NDEyMTI0', 'avatar_url': 'https://avatars.githubusercontent.com/u/48412124?v=4', 'gravatar_id': '', 'url': 'https://api.github.com/users/praveen9375', 'html_url': 'https://github.com/praveen9375', 'followers_url': 'https://api.github.com/users/praveen9375/followers', 'following_url': 'https://api.github.com/users/praveen9375/following{/other_user}', 'gists_url': 'https://api.github.com/users/praveen9375/gists{/gist_id}', 'starred_url': 'https://api.github.com/users/praveen9375/starred{/owner}{/repo}', 'subscriptions_url': 'https://api.github.com/users/praveen9375/subscriptions', 'organizations_url': 'https://api.github.com/users/praveen9375/orgs', 'repos_url': 'https://api.github.com/users/praveen9375/repos', 'events_url': 'https://api.github.com/users/praveen9375/events{/privacy}', 'received_events_url': 'https://api.github.com/users/praveen9375/received_events', 'type': 'User', 'site_admin': False, 'name': None, 'company': None, 'blog': '', 'location': None, 'email': None, 'hireable': None, 'bio': None, 'twitter_username': None, 'public_repos': 9, 'public_gists': 0, 'followers': 2, 'following': 4, 'created_at': '2019-03-10T15:19:08Z', 'updated_at': '2023-05-17T11:07:54Z'}\n"
     ]
    }
   ],
   "source": [
    "url = 'https://api.github.com/users/praveen9375'\n",
    "response = requests.get(url)\n",
    "print(response.json())"
   ]
  },
  {
   "cell_type": "code",
   "execution_count": 28,
   "id": "1d8398ff",
   "metadata": {},
   "outputs": [
    {
     "name": "stdout",
     "output_type": "stream",
     "text": [
      "Username: adeshpokhrel15\n",
      "Name: Adesh Pokhrel\n",
      "Location: Kathmandu, Nepal\n",
      "Public Repos: 41\n",
      "--------------\n",
      "Username: Adhikari-arpan1\n",
      "Name: None\n",
      "Location: None\n",
      "Public Repos: 3\n",
      "--------------\n",
      "Username: Srijanathulung\n",
      "Name: None\n",
      "Location: None\n",
      "Public Repos: 16\n",
      "--------------\n",
      "Username: Shreya-Devkar\n",
      "Name: Shreya Devkar\n",
      "Location: Mumbai\n",
      "Public Repos: 0\n",
      "--------------\n",
      "Username: shreyassreenivas\n",
      "Name: Shreyas Sreenivas\n",
      "Location: None\n",
      "Public Repos: 0\n",
      "--------------\n",
      "Username: aanchalcoder18\n",
      "Name: Aanchal Saxena\n",
      "Location: San Ramon, CA\n",
      "Public Repos: 86\n",
      "--------------\n"
     ]
    }
   ],
   "source": [
    "import requests\n",
    "\n",
    "def get_github_user(username):\n",
    "    url = f\"https://api.github.com/users/{username}\"\n",
    "    response = requests.get(url)\n",
    "    if response.status_code == 200:\n",
    "        user_data = response.json()\n",
    "        return user_data\n",
    "    else:\n",
    "        print(f\"Error: {response.status_code}\")\n",
    "        return None\n",
    "\n",
    "# List of usernames\n",
    "usernames = [\"adeshpokhrel15\", \"Adhikari-arpan1\", \"SrijanaThulung\",\"Shreya-Devkar\",\"shreyassreenivas\", \"aanchalcoder18\"]\n",
    "\n",
    "for username in usernames:\n",
    "    user_data = get_github_user(username)\n",
    "    if user_data:\n",
    "        print(f\"Username: {user_data['login']}\")\n",
    "        print(f\"Name: {user_data['name']}\")\n",
    "        print(f\"Location: {user_data['location']}\")\n",
    "        print(f\"Public Repos: {user_data['public_repos']}\")\n",
    "        print(\"--------------\")\n",
    "        "
   ]
  },
  {
   "cell_type": "code",
   "execution_count": null,
   "id": "7350ecfd",
   "metadata": {},
   "outputs": [],
   "source": []
  }
 ],
 "metadata": {
  "kernelspec": {
   "display_name": "Python 3 (ipykernel)",
   "language": "python",
   "name": "python3"
  },
  "language_info": {
   "codemirror_mode": {
    "name": "ipython",
    "version": 3
   },
   "file_extension": ".py",
   "mimetype": "text/x-python",
   "name": "python",
   "nbconvert_exporter": "python",
   "pygments_lexer": "ipython3",
   "version": "3.9.13"
  }
 },
 "nbformat": 4,
 "nbformat_minor": 5
}
