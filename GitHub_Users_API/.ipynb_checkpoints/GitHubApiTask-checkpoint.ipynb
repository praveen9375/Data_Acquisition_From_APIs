{
 "cells": [
  {
   "cell_type": "markdown",
   "id": "eaf88fd1",
   "metadata": {},
   "source": [
    "<font size=\"20\"> <b>Start: -</b> </font>\n",
    "\n",
    "Like all the programs, we start this program too by importing all the necessary classes. Since queue is used as a common shared buffer in producer-consuer architecture, we have to implement the queue module. Other modules that are required to be implemented include the requests, csv and threading."
   ]
  },
  {
   "cell_type": "code",
   "execution_count": 1,
   "id": "7e2ac807",
   "metadata": {},
   "outputs": [],
   "source": [
    "import requests\n",
    "\n",
    "import threading\n",
    "\n",
    "from requests import Session\n",
    "\n",
    "from queue import Queue\n",
    "\n",
    "import csv\n",
    "\n",
    "import time"
   ]
  },
  {
   "cell_type": "markdown",
   "id": "7487560b",
   "metadata": {},
   "source": [
    "<font size=\"20\"> <b>Step 1: -</b> </font>\n",
    "\n",
    "After all the necessary imports, we start off with the OOP Concepts implement the task in the code."
   ]
  },
  {
   "cell_type": "code",
   "execution_count": 2,
   "id": "a241b28a",
   "metadata": {},
   "outputs": [],
   "source": [
    "class GitHub_API_Task:\n",
    "    \n",
    "    def __init__(self):\n",
    "        self.session = Session()\n",
    "        self.details_of_user = []\n",
    "        self.lock = threading.Lock( )\n",
    "        \n",
    "    def fetch_user_details(self, username):\n",
    "        url = f\"https://api.github.com/users/{username}\"\n",
    "        retries = 3\n",
    "        for r in range(retries):\n",
    "            try:\n",
    "                response = self.session.get(url)\n",
    "                response.raise_for_status()\n",
    "                if response.status_code == 200:\n",
    "                    user_data = response.json()\n",
    "                    with self.lock:\n",
    "                        self.details_of_user.append(user_data)\n",
    "                    break  # Success, exit the retry loop\n",
    "            except requests.exceptions.RequestException:\n",
    "                time.sleep(120)\n",
    "                pass                    # Ignore the exception and retry after 2 minutes\n",
    "        else:\n",
    "            print(f\"Failed to fetch user details for {username} after {retries} attempts.\")\n",
    "                \n",
    "    def saving_the_user_details(self,filename):\n",
    "        with open(filename, 'w', newline='') as csvfile:\n",
    "            fieldnames = ['Username', 'Name', 'Location', 'Email', 'Public Repos']\n",
    "            writer = csv.DictWriter(csvfile, fieldnames=fieldnames)\n",
    "            writer.writeheader()\n",
    "            for user_data in self.details_of_user:\n",
    "                writer.writerow({\n",
    "                    'Username': user_data['login'],\n",
    "                    'Name': user_data['name'],\n",
    "                    'Location': user_data['location'],\n",
    "                    'Email': user_data['email'],\n",
    "                    'Public Repos': user_data['public_repos']\n",
    "                })"
   ]
  },
  {
   "cell_type": "markdown",
   "id": "c8e834c7",
   "metadata": {},
   "source": [
    "<font size=\"20\"> <b>Code Description: -</b> </font>\n",
    "\n",
    "__The above code snippent does the following: -__\n",
    "\n",
    "1) Creates a class named as GitHub_API_Task.\n",
    "\n",
    "2) Method __init__ defines the properties that would be defined inside the class. The method acts as a constructor for class.\n",
    "\n",
    "<b>P.S. Code \"self.lock = thread.Lock( )\" initializes an instance of the Lock class and assigns it to the self.lock attribute of the class. The purpose of using self.lock is to ensure that the self.user_details list is accessed and modified in a thread-safe manner. By acquiring the lock using with self.lock, the code ensures that only one thread can access and modify the list at a time.</b> \n",
    "\n",
    "3) The method fetch_user_details takes the username as a parameter and gets the values from the users.\n",
    "\n",
    "<b>P.S. By using with self.lock, the code acquires the lock before accessing and modifying the list, and releases the lock automatically when the with block is exited. This ensures that only one thread can access and modify the list at a time, preventing potential conflicts and ensuring data integrity.</b>\n",
    "\n",
    "4) The method saving_the_user_details works by opening a file with \"filename\" as csv file and writes the fieldname as fieldnames for the csv files. The writerow then writes ({ 'Username': user_data['login'],'Name': user_data['name'],'Location': user_data['location'],'Email': user_data['email'],'Public Repos': user_data['public_repos']}) into the csv files as values."
   ]
  },
  {
   "cell_type": "code",
   "execution_count": 3,
   "id": "3ee615fb",
   "metadata": {},
   "outputs": [],
   "source": [
    "def user_details_worker(usernames_queue, User):\n",
    "    while True:\n",
    "        username = usernames_queue.get()\n",
    "        if username is None:\n",
    "            break\n",
    "        User.fetch_user_details(username)\n",
    "        usernames_queue.task_done()"
   ]
  },
  {
   "cell_type": "markdown",
   "id": "9e4b7359",
   "metadata": {},
   "source": [
    "The __usernames_queue.task_done()__ code effectively notifies the queue that a task has been finished, which can be useful when coordinating multiple worker threads or processes that are processing items from the queue. The above function takes usernames_queue which is the shared buffer for producer and consumer and the User object as the parameters. Usernames are fetched from queue using __username = usernames_queue.get()__ code. "
   ]
  },
  {
   "cell_type": "code",
   "execution_count": 4,
   "id": "db52ffc3",
   "metadata": {},
   "outputs": [],
   "source": [
    "# Create an instance of the Class\n",
    "\n",
    "User = GitHub_API_Task()\n",
    "\n",
    "# Create a queue to hold the usernames\n",
    "\n",
    "usernames_queue = Queue()"
   ]
  },
  {
   "cell_type": "code",
   "execution_count": 5,
   "id": "21030cc3",
   "metadata": {},
   "outputs": [],
   "source": [
    "# Create and start multiple producer threads\n",
    "\n",
    "num_threads = 10\n",
    "threads = []\n",
    "for tds in range(num_threads):\n",
    "    thread = threading.Thread(target=user_details_worker, args=(usernames_queue, User))\n",
    "    thread.start()\n",
    "    threads.append(thread)"
   ]
  },
  {
   "cell_type": "markdown",
   "id": "f45bc96f",
   "metadata": {},
   "source": [
    "<font size=\"20\"> <b>Step 2: - </b> </font>\n",
    "\n",
    "The given code creates multiple threads to execute the user_details_worker function concurrently. A loop is used to create and start the threads. It iterates num_threads times. In each iteration, a new threading.Thread object is created, specifying user_details_worker as the target function and (usernames_queue, fetcher) as the arguments passed to the user_details_worker function. The target parameter specifies the function to be executed by the thread. The args parameter is a tuple of arguments to be passed to the target function. The start() method is called on the thread object to start its execution. Each thread will begin executing the user_details_worker function with the provided arguments. The thread object is appended to the threads list, allowing you to keep track of all the created threads."
   ]
  },
  {
   "cell_type": "code",
   "execution_count": 6,
   "id": "e5da5a48",
   "metadata": {},
   "outputs": [],
   "source": [
    "# Enqueue the usernames\n",
    "usernames = [\"eugeneyan\", \"DataTalksClub\", \"airbytehq\", \"great-expectations\", \"growthbook\", \"cloudquery\", \"whoiskatrin\", \"aws\", \"treeverse\", \"adilkhash\"]\n",
    "for username in usernames:\n",
    "    usernames_queue.put(username)\n",
    "\n",
    "# Wait for all tasks to be completed\n",
    "usernames_queue.join()"
   ]
  },
  {
   "cell_type": "code",
   "execution_count": 7,
   "id": "0479c1b7",
   "metadata": {},
   "outputs": [],
   "source": [
    "# Stop the worker threads\n",
    "for i in range(num_threads):\n",
    "    usernames_queue.put(None)\n",
    "for j in threads:\n",
    "    thread.join()\n",
    "\n",
    "# Save the user details to a CSV file\n",
    "User.saving_the_user_details(\"user_detail.csv\")"
   ]
  },
  {
   "cell_type": "code",
   "execution_count": null,
   "id": "0427e583",
   "metadata": {},
   "outputs": [],
   "source": []
  }
 ],
 "metadata": {
  "kernelspec": {
   "display_name": "Python 3 (ipykernel)",
   "language": "python",
   "name": "python3"
  },
  "language_info": {
   "codemirror_mode": {
    "name": "ipython",
    "version": 3
   },
   "file_extension": ".py",
   "mimetype": "text/x-python",
   "name": "python",
   "nbconvert_exporter": "python",
   "pygments_lexer": "ipython3",
   "version": "3.9.13"
  }
 },
 "nbformat": 4,
 "nbformat_minor": 5
}
