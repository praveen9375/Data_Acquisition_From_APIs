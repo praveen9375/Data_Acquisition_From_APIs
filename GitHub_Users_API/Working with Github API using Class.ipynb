{
 "cells": [
  {
   "cell_type": "code",
   "execution_count": 1,
   "id": "1c821e4b",
   "metadata": {},
   "outputs": [],
   "source": [
    "import requests\n",
    "from requests import Session\n",
    "import csv\n",
    "import json"
   ]
  },
  {
   "cell_type": "code",
   "execution_count": 2,
   "id": "ed446216",
   "metadata": {},
   "outputs": [
    {
     "name": "stdout",
     "output_type": "stream",
     "text": [
      "{'login': 'praveen9375', 'id': 48412124, 'node_id': 'MDQ6VXNlcjQ4NDEyMTI0', 'avatar_url': 'https://avatars.githubusercontent.com/u/48412124?v=4', 'gravatar_id': '', 'url': 'https://api.github.com/users/praveen9375', 'html_url': 'https://github.com/praveen9375', 'followers_url': 'https://api.github.com/users/praveen9375/followers', 'following_url': 'https://api.github.com/users/praveen9375/following{/other_user}', 'gists_url': 'https://api.github.com/users/praveen9375/gists{/gist_id}', 'starred_url': 'https://api.github.com/users/praveen9375/starred{/owner}{/repo}', 'subscriptions_url': 'https://api.github.com/users/praveen9375/subscriptions', 'organizations_url': 'https://api.github.com/users/praveen9375/orgs', 'repos_url': 'https://api.github.com/users/praveen9375/repos', 'events_url': 'https://api.github.com/users/praveen9375/events{/privacy}', 'received_events_url': 'https://api.github.com/users/praveen9375/received_events', 'type': 'User', 'site_admin': False, 'name': None, 'company': None, 'blog': '', 'location': None, 'email': None, 'hireable': None, 'bio': None, 'twitter_username': None, 'public_repos': 9, 'public_gists': 0, 'followers': 2, 'following': 4, 'created_at': '2019-03-10T15:19:08Z', 'updated_at': '2023-05-17T11:07:54Z'}\n"
     ]
    }
   ],
   "source": [
    "url = 'https://api.github.com/users/praveen9375'\n",
    "response = requests.get(url)\n",
    "print(response.json())"
   ]
  },
  {
   "cell_type": "code",
   "execution_count": 3,
   "id": "0e5df193",
   "metadata": {},
   "outputs": [],
   "source": [
    "def get_github_user(username):\n",
    "    url = f\"https://api.github.com/users/{username}\"\n",
    "    response = requests.get(url)\n",
    "    if response.status_code == 200:\n",
    "        user_data = response.json()\n",
    "        return user_data\n",
    "    else:\n",
    "        print(f\"Error: {response.status_code}\")\n",
    "        return None"
   ]
  },
  {
   "cell_type": "code",
   "execution_count": 4,
   "id": "4eaa6f1b",
   "metadata": {},
   "outputs": [],
   "source": [
    "# List of usernames\n",
    "usernames = [\"adeshpokhrel15\", \"Adhikari-arpan1\", \"SrijanaThulung\",\"Shreya-Devkar\",\"shreyassreenivas\", \"aanchalcoder18\"]"
   ]
  },
  {
   "cell_type": "code",
   "execution_count": 6,
   "id": "9dd439a0",
   "metadata": {},
   "outputs": [
    {
     "name": "stdout",
     "output_type": "stream",
     "text": [
      "Username: adeshpokhrel15\n",
      "Name: Adesh Pokhrel\n",
      "Location: Kathmandu, Nepal\n",
      "email: None\n",
      "Public Repos: https://api.github.com/users/adeshpokhrel15/repos\n",
      "Repos URL: 41\n",
      "Subscriptions URL: https://api.github.com/users/adeshpokhrel15/subscriptions\n",
      "--------------\n",
      "Username: Adhikari-arpan1\n",
      "Name: None\n",
      "Location: None\n",
      "email: None\n",
      "Public Repos: https://api.github.com/users/Adhikari-arpan1/repos\n",
      "Repos URL: 3\n",
      "Subscriptions URL: https://api.github.com/users/Adhikari-arpan1/subscriptions\n",
      "--------------\n",
      "Username: Srijanathulung\n",
      "Name: None\n",
      "Location: None\n",
      "email: None\n",
      "Public Repos: https://api.github.com/users/Srijanathulung/repos\n",
      "Repos URL: 16\n",
      "Subscriptions URL: https://api.github.com/users/Srijanathulung/subscriptions\n",
      "--------------\n",
      "Username: Shreya-Devkar\n",
      "Name: Shreya Devkar\n",
      "Location: Mumbai\n",
      "email: None\n",
      "Public Repos: https://api.github.com/users/Shreya-Devkar/repos\n",
      "Repos URL: 0\n",
      "Subscriptions URL: https://api.github.com/users/Shreya-Devkar/subscriptions\n",
      "--------------\n",
      "Username: shreyassreenivas\n",
      "Name: Shreyas Sreenivas\n",
      "Location: None\n",
      "email: None\n",
      "Public Repos: https://api.github.com/users/shreyassreenivas/repos\n",
      "Repos URL: 0\n",
      "Subscriptions URL: https://api.github.com/users/shreyassreenivas/subscriptions\n",
      "--------------\n",
      "Username: aanchalcoder18\n",
      "Name: Aanchal Saxena\n",
      "Location: San Ramon, CA\n",
      "email: None\n",
      "Public Repos: https://api.github.com/users/aanchalcoder18/repos\n",
      "Repos URL: 86\n",
      "Subscriptions URL: https://api.github.com/users/aanchalcoder18/subscriptions\n",
      "--------------\n"
     ]
    }
   ],
   "source": [
    "for username in usernames:\n",
    "    user_data = get_github_user(username)\n",
    "    if user_data:\n",
    "        print(f\"Username: {user_data['login']}\")\n",
    "        print(f\"Name: {user_data['name']}\")\n",
    "        print(f\"Location: {user_data['location']}\")\n",
    "        print(f\"email: {user_data['email']}\")\n",
    "        print(f\"Public Repos: {user_data['repos_url']}\")\n",
    "        print(f\"Repos URL: {user_data['public_repos']}\")\n",
    "        print(f\"Subscriptions URL: {user_data['subscriptions_url']}\")\n",
    "        print(\"--------------\")"
   ]
  },
  {
   "cell_type": "code",
   "execution_count": 8,
   "id": "de2d7091",
   "metadata": {},
   "outputs": [
    {
     "name": "stdout",
     "output_type": "stream",
     "text": [
      "User details saved to user_details.csv.\n"
     ]
    }
   ],
   "source": [
    "\"\"\"Since queue is used as a common shared buffer in \"\"\""
   ]
  },
  {
   "cell_type": "code",
   "execution_count": 1,
   "id": "b4d39a7e",
   "metadata": {},
   "outputs": [
    {
     "name": "stdout",
     "output_type": "stream",
     "text": [
      "User details saved to user_details.csv.\n"
     ]
    }
   ],
   "source": []
  }
 ],
 "metadata": {
  "kernelspec": {
   "display_name": "Python 3 (ipykernel)",
   "language": "python",
   "name": "python3"
  },
  "language_info": {
   "codemirror_mode": {
    "name": "ipython",
    "version": 3
   },
   "file_extension": ".py",
   "mimetype": "text/x-python",
   "name": "python",
   "nbconvert_exporter": "python",
   "pygments_lexer": "ipython3",
   "version": "3.9.13"
  }
 },
 "nbformat": 4,
 "nbformat_minor": 5
}
