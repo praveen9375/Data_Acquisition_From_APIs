{
 "cells": [
  {
   "cell_type": "code",
   "execution_count": 6,
   "id": "0c8c98cd",
   "metadata": {},
   "outputs": [],
   "source": [
    "import requests\n",
    "from requests import Session\n",
    "import csv\n",
    "\n",
    "token = \"5d91858c-bde3-4578-a5d2-d5fb7c2646f5\"\n",
    "\n",
    "class CMC:\n",
    "    #https://coinmarketcap.com/api/documentation/v1/\n",
    "    def __init__(self, token):\n",
    "        self.apiurl = 'https://pro-api.coinmarketcap.com'\n",
    "        self.headers = {'Accepts': 'application/json', 'X-CMC_PRO_API_KEY': token,}\n",
    "        self.session = Session()\n",
    "        self.session.headers.update(self.headers)\n",
    "    \n",
    "    def getAllCoins(self):\n",
    "        url = self.apiurl + '/v1/cryptocurrency/map'\n",
    "        r = self.session.get(url)\n",
    "        data = r.json()['data']\n",
    "        return data\n",
    "        \n",
    "    def getPrice(self, symbol):\n",
    "        url = self.apiurl + '/v1/cryptocurrency/quotes/latest'\n",
    "        parameters = {'symbol': symbol}\n",
    "        r = self.session.get(url, params=parameters)\n",
    "        data = r.json()['data']\n",
    "        return data\n",
    "    \n",
    "    def saveDataToCSV(self, data):\n",
    "        keys = data[0].keys()\n",
    "        filename = 'coins_data.csv'\n",
    "        with open(filename, 'w', encoding='utf-8', newline='') as csvfile:\n",
    "            writer = csv.DictWriter(csvfile, fieldnames=keys)\n",
    "            writer.writeheader()\n",
    "            writer.writerows(data)\n",
    "        print(f\"Data saved to {filename}\")\n",
    "    \n",
    "    \n",
    "cmc = CMC(token,)"
   ]
  },
  {
   "cell_type": "code",
   "execution_count": 7,
   "id": "8524ab87",
   "metadata": {},
   "outputs": [
    {
     "name": "stdout",
     "output_type": "stream",
     "text": [
      "Data saved to coins_data.csv\n"
     ]
    }
   ],
   "source": [
    "cmc = CMC(token)\n",
    "coins_data = cmc.getAllCoins()\n",
    "cmc.saveDataToCSV(coins_data)"
   ]
  },
  {
   "cell_type": "code",
   "execution_count": 16,
   "id": "2b625fc3",
   "metadata": {},
   "outputs": [
    {
     "name": "stdout",
     "output_type": "stream",
     "text": [
      "Data saved to coins_data.csv\n"
     ]
    }
   ],
   "source": [
    "import requests\n",
    "import csv\n",
    "from requests import Session\n",
    "\n",
    "token = \"5d91858c-bde3-4578-a5d2-d5fb7c2646f5\"\n",
    "\n",
    "class CMC:\n",
    "    # https://coinmarketcap.com/api/documentation/v1/\n",
    "    def __init__(self, token):\n",
    "        self.apiurl = 'https://pro-api.coinmarketcap.com'\n",
    "        self.headers = {'Accepts': 'application/json', 'X-CMC_PRO_API_KEY': token}\n",
    "        self.session = Session()\n",
    "        self.session.headers.update(self.headers)\n",
    "\n",
    "    def getAllCoins(self, limit=25):\n",
    "        url = self.apiurl + '/v1/cryptocurrency/map'\n",
    "        parameters = {'limit': limit}\n",
    "        r = self.session.get(url, params=parameters)\n",
    "        response_data = r.json()\n",
    "        if 'data' in response_data:\n",
    "            return response_data['data']\n",
    "        else:\n",
    "            print('Failed to retrieve coins. Error:', response_data)\n",
    "            return []\n",
    "\n",
    "    def saveDataToCSV(self, data):\n",
    "        keys = data[0].keys() if data else []\n",
    "        filename = 'coins_data.csv'\n",
    "        with open(filename, 'w', newline='', encoding='utf-8') as csvfile:\n",
    "            writer = csv.DictWriter(csvfile, fieldnames=keys)\n",
    "            writer.writeheader()\n",
    "            writer.writerows(data)\n",
    "        print(f\"Data saved to {filename}\")\n",
    "\n",
    "cmc = CMC(token)\n",
    "coins_data = cmc.getAllCoins(limit=25)  # Set the limit to 25\n",
    "cmc.saveDataToCSV(coins_data)"
   ]
  },
  {
   "cell_type": "code",
   "execution_count": null,
   "id": "22616aeb",
   "metadata": {},
   "outputs": [],
   "source": []
  }
 ],
 "metadata": {
  "kernelspec": {
   "display_name": "Python 3 (ipykernel)",
   "language": "python",
   "name": "python3"
  },
  "language_info": {
   "codemirror_mode": {
    "name": "ipython",
    "version": 3
   },
   "file_extension": ".py",
   "mimetype": "text/x-python",
   "name": "python",
   "nbconvert_exporter": "python",
   "pygments_lexer": "ipython3",
   "version": "3.9.13"
  }
 },
 "nbformat": 4,
 "nbformat_minor": 5
}
