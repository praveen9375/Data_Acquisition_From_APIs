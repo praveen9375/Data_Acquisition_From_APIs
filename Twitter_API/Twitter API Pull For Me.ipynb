{
 "cells": [
  {
   "cell_type": "code",
   "execution_count": 1,
   "id": "f9f6b92d",
   "metadata": {},
   "outputs": [],
   "source": [
    "from requests_oauthlib import OAuth1Session\n",
    "import os\n",
    "import json"
   ]
  },
  {
   "cell_type": "code",
   "execution_count": 2,
   "id": "ace8b37d",
   "metadata": {},
   "outputs": [],
   "source": [
    "os.environ[\"CONSUMER_KEY\"] = 'dRn8chuiS3rkHEF9DgfDmKEKL'\n",
    "os.environ[\"CONSUMER_SECRET\"] = 'IXb1pCqtwTy0tCZMK6pFGYe0JXx7VJMdbDNMZ1tFfaoKWYwwNe'"
   ]
  },
  {
   "cell_type": "code",
   "execution_count": 3,
   "id": "fd4dffb6",
   "metadata": {},
   "outputs": [],
   "source": [
    "# Get consumer_key and consumer_secret from environment variables\n",
    "consumer_key = os.environ.get(\"CONSUMER_KEY\")\n",
    "consumer_secret = os.environ.get(\"CONSUMER_SECRET\")"
   ]
  },
  {
   "cell_type": "code",
   "execution_count": 4,
   "id": "32a11cdc",
   "metadata": {},
   "outputs": [],
   "source": [
    "fields = \"created_at,description,id,location,name,public_metrics,url,username,verified\"\n",
    "params = {\"user.fields\": fields}"
   ]
  },
  {
   "cell_type": "code",
   "execution_count": 5,
   "id": "dd137219",
   "metadata": {},
   "outputs": [
    {
     "name": "stdout",
     "output_type": "stream",
     "text": [
      "Got OAuth token: PVrs3QAAAAABoEHvAAABiPwoZqQ\n"
     ]
    }
   ],
   "source": [
    "# Get request token\n",
    "request_token_url = \"https://api.twitter.com/oauth/request_token\"\n",
    "oauth = OAuth1Session(consumer_key, client_secret=consumer_secret)\n",
    "\n",
    "try:\n",
    "    fetch_response = oauth.fetch_request_token(request_token_url)\n",
    "    resource_owner_key = fetch_response.get(\"oauth_token\")\n",
    "    resource_owner_secret = fetch_response.get(\"oauth_token_secret\")\n",
    "    print(\"Got OAuth token: %s\" % resource_owner_key)\n",
    "except ValueError:\n",
    "    print(\"There may have been an issue with the consumer_key or consumer_secret you entered.\")"
   ]
  },
  {
   "cell_type": "code",
   "execution_count": 6,
   "id": "3b68c3a8",
   "metadata": {},
   "outputs": [
    {
     "name": "stdout",
     "output_type": "stream",
     "text": [
      "Please go here and authorize: https://api.twitter.com/oauth/authorize?oauth_token=PVrs3QAAAAABoEHvAAABiPwoZqQ\n",
      "Paste the PIN here: 8957857\n"
     ]
    }
   ],
   "source": [
    "# # Get authorization\n",
    "base_authorization_url = \"https://api.twitter.com/oauth/authorize\"\n",
    "authorization_url = oauth.authorization_url(base_authorization_url)\n",
    "print(\"Please go here and authorize: %s\" % authorization_url)\n",
    "verifier = input(\"Paste the PIN here: \")"
   ]
  },
  {
   "cell_type": "code",
   "execution_count": 7,
   "id": "ad3c7f59",
   "metadata": {},
   "outputs": [],
   "source": [
    "# Get the access token\n",
    "access_token_url = \"https://api.twitter.com/oauth/access_token\"\n",
    "oauth = OAuth1Session(\n",
    "    consumer_key,\n",
    "    client_secret=consumer_secret,\n",
    "    resource_owner_key=resource_owner_key,\n",
    "    resource_owner_secret=resource_owner_secret,\n",
    "    verifier=verifier,\n",
    ")\n",
    "oauth_tokens = oauth.fetch_access_token(access_token_url)\n",
    "\n",
    "access_token = oauth_tokens[\"oauth_token\"]\n",
    "access_token_secret = oauth_tokens[\"oauth_token_secret\"]"
   ]
  },
  {
   "cell_type": "code",
   "execution_count": 8,
   "id": "19d70420",
   "metadata": {},
   "outputs": [
    {
     "name": "stdout",
     "output_type": "stream",
     "text": [
      "Response code: 200\n",
      "{\n",
      "    \"data\": {\n",
      "        \"created_at\": \"2023-06-09T04:34:18.000Z\",\n",
      "        \"description\": \"\",\n",
      "        \"id\": \"1667027254680121344\",\n",
      "        \"name\": \"Prasiddha Guragain\",\n",
      "        \"public_metrics\": {\n",
      "            \"followers_count\": 0,\n",
      "            \"following_count\": 3,\n",
      "            \"listed_count\": 0,\n",
      "            \"tweet_count\": 3\n",
      "        },\n",
      "        \"username\": \"G54427Guragain\",\n",
      "        \"verified\": false\n",
      "    }\n",
      "}\n"
     ]
    }
   ],
   "source": [
    "# Make the request\n",
    "oauth = OAuth1Session(\n",
    "    consumer_key,\n",
    "    client_secret=consumer_secret,\n",
    "    resource_owner_key=access_token,\n",
    "    resource_owner_secret=access_token_secret,\n",
    ")\n",
    "\n",
    "response = oauth.get(\"https://api.twitter.com/2/users/me\", params=params)\n",
    "\n",
    "if response.status_code != 200:\n",
    "    raise Exception(\n",
    "        \"Request returned an error: {} {}\".format(response.status_code, response.text)\n",
    "    )\n",
    "\n",
    "print(\"Response code: {}\".format(response.status_code))\n",
    "\n",
    "json_response = response.json()\n",
    "\n",
    "print(json.dumps(json_response, indent=4, sort_keys=True))"
   ]
  }
 ],
 "metadata": {
  "kernelspec": {
   "display_name": "Python 3 (ipykernel)",
   "language": "python",
   "name": "python3"
  },
  "language_info": {
   "codemirror_mode": {
    "name": "ipython",
    "version": 3
   },
   "file_extension": ".py",
   "mimetype": "text/x-python",
   "name": "python",
   "nbconvert_exporter": "python",
   "pygments_lexer": "ipython3",
   "version": "3.9.13"
  }
 },
 "nbformat": 4,
 "nbformat_minor": 5
}
