{
 "cells": [
  {
   "cell_type": "code",
   "execution_count": 1,
   "id": "7e7c7729",
   "metadata": {},
   "outputs": [],
   "source": [
    "from requests_oauthlib import OAuth1Session\n",
    "import os\n",
    "import json"
   ]
  },
  {
   "cell_type": "code",
   "execution_count": 2,
   "id": "f7e7d3eb",
   "metadata": {},
   "outputs": [],
   "source": [
    "os.environ[\"CONSUMER_KEY\"] = 'IcLmzjoQLKQhhdASTgdTQaw9b'\n",
    "os.environ[\"CONSUMER_SECRET\"] = 'w8SlDAXk2rXdLeuPpoLPG2QFXyfomqKvZfkYK4OEhCEurFWHVm'"
   ]
  },
  {
   "cell_type": "code",
   "execution_count": 3,
   "id": "c3d8ce59",
   "metadata": {},
   "outputs": [],
   "source": [
    "# Get consumer_key and consumer_secret from environment variables\n",
    "consumer_key = os.environ.get(\"CONSUMER_KEY\")\n",
    "consumer_secret = os.environ.get(\"CONSUMER_SECRET\")"
   ]
  },
  {
   "cell_type": "code",
   "execution_count": 4,
   "id": "4a58cc4f",
   "metadata": {},
   "outputs": [],
   "source": [
    "fields = \"created_at,description,id,location,name,public_metrics,url,username,verified\"\n",
    "params = {\"usernames\": \"G54427Gurag,TwitterAPI\", \"user.fields\": fields}"
   ]
  },
  {
   "cell_type": "code",
   "execution_count": 5,
   "id": "76ae50da",
   "metadata": {},
   "outputs": [
    {
     "name": "stdout",
     "output_type": "stream",
     "text": [
      "Got OAuth token: rtuH_wAAAAABoEHvAAABiJ85hfY\n"
     ]
    }
   ],
   "source": [
    "# Get request token\n",
    "request_token_url = \"https://api.twitter.com/oauth/request_token\"\n",
    "oauth = OAuth1Session(consumer_key, client_secret=consumer_secret)\n",
    "\n",
    "try:\n",
    "    fetch_response = oauth.fetch_request_token(request_token_url)\n",
    "except ValueError:\n",
    "    print(\n",
    "        \"There may have been an issue with the consumer_key or consumer_secret you entered.\"\n",
    "    )\n",
    "\n",
    "resource_owner_key = fetch_response.get(\"oauth_token\")\n",
    "resource_owner_secret = fetch_response.get(\"oauth_token_secret\")\n",
    "print(\"Got OAuth token: %s\" % resource_owner_key)"
   ]
  },
  {
   "cell_type": "code",
   "execution_count": 6,
   "id": "36d53653",
   "metadata": {},
   "outputs": [
    {
     "name": "stdout",
     "output_type": "stream",
     "text": [
      "Please go here and authorize: https://api.twitter.com/oauth/authorize?oauth_token=rtuH_wAAAAABoEHvAAABiJ85hfY\n",
      "Paste the PIN here: 7533541\n"
     ]
    }
   ],
   "source": [
    "# # Get authorization\n",
    "base_authorization_url = \"https://api.twitter.com/oauth/authorize\"\n",
    "authorization_url = oauth.authorization_url(base_authorization_url)\n",
    "print(\"Please go here and authorize: %s\" % authorization_url)\n",
    "verifier = input(\"Paste the PIN here: \")"
   ]
  },
  {
   "cell_type": "code",
   "execution_count": 7,
   "id": "58d7a0e9",
   "metadata": {},
   "outputs": [],
   "source": [
    "# Get the access token\n",
    "access_token_url = \"https://api.twitter.com/oauth/access_token\"\n",
    "oauth = OAuth1Session(\n",
    "    consumer_key,\n",
    "    client_secret=consumer_secret,\n",
    "    resource_owner_key=resource_owner_key,\n",
    "    resource_owner_secret=resource_owner_secret,\n",
    "    verifier=verifier,\n",
    ")\n",
    "oauth_tokens = oauth.fetch_access_token(access_token_url)\n",
    "\n",
    "access_token = oauth_tokens[\"oauth_token\"]\n",
    "access_token_secret = oauth_tokens[\"oauth_token_secret\"]\n"
   ]
  },
  {
   "cell_type": "code",
   "execution_count": 8,
   "id": "47e08873",
   "metadata": {},
   "outputs": [
    {
     "ename": "Exception",
     "evalue": "Request returned an error: 403 {\"client_id\":\"27279855\",\"detail\":\"When authenticating requests to the Twitter API v2 endpoints, you must use keys and tokens from a Twitter developer App that is attached to a Project. You can create a project via the developer portal.\",\"registration_url\":\"https://developer.twitter.com/en/docs/projects/overview\",\"title\":\"Client Forbidden\",\"required_enrollment\":\"Appropriate Level of API Access\",\"reason\":\"client-not-enrolled\",\"type\":\"https://api.twitter.com/2/problems/client-forbidden\"}",
     "output_type": "error",
     "traceback": [
      "\u001b[1;31m---------------------------------------------------------------------------\u001b[0m",
      "\u001b[1;31mException\u001b[0m                                 Traceback (most recent call last)",
      "\u001b[1;32m~\\AppData\\Local\\Temp\\ipykernel_276\\2991279375.py\u001b[0m in \u001b[0;36m<module>\u001b[1;34m\u001b[0m\n\u001b[0;32m     12\u001b[0m \u001b[1;33m\u001b[0m\u001b[0m\n\u001b[0;32m     13\u001b[0m \u001b[1;32mif\u001b[0m \u001b[0mresponse\u001b[0m\u001b[1;33m.\u001b[0m\u001b[0mstatus_code\u001b[0m \u001b[1;33m!=\u001b[0m \u001b[1;36m200\u001b[0m\u001b[1;33m:\u001b[0m\u001b[1;33m\u001b[0m\u001b[1;33m\u001b[0m\u001b[0m\n\u001b[1;32m---> 14\u001b[1;33m     raise Exception(\n\u001b[0m\u001b[0;32m     15\u001b[0m         \u001b[1;34m\"Request returned an error: {} {}\"\u001b[0m\u001b[1;33m.\u001b[0m\u001b[0mformat\u001b[0m\u001b[1;33m(\u001b[0m\u001b[0mresponse\u001b[0m\u001b[1;33m.\u001b[0m\u001b[0mstatus_code\u001b[0m\u001b[1;33m,\u001b[0m \u001b[0mresponse\u001b[0m\u001b[1;33m.\u001b[0m\u001b[0mtext\u001b[0m\u001b[1;33m)\u001b[0m\u001b[1;33m\u001b[0m\u001b[1;33m\u001b[0m\u001b[0m\n\u001b[0;32m     16\u001b[0m     )\n",
      "\u001b[1;31mException\u001b[0m: Request returned an error: 403 {\"client_id\":\"27279855\",\"detail\":\"When authenticating requests to the Twitter API v2 endpoints, you must use keys and tokens from a Twitter developer App that is attached to a Project. You can create a project via the developer portal.\",\"registration_url\":\"https://developer.twitter.com/en/docs/projects/overview\",\"title\":\"Client Forbidden\",\"required_enrollment\":\"Appropriate Level of API Access\",\"reason\":\"client-not-enrolled\",\"type\":\"https://api.twitter.com/2/problems/client-forbidden\"}"
     ]
    }
   ],
   "source": [
    "# Make the request\n",
    "oauth = OAuth1Session(\n",
    "    consumer_key,\n",
    "    client_secret=consumer_secret,\n",
    "    resource_owner_key=access_token,\n",
    "    resource_owner_secret=access_token_secret,\n",
    ")\n",
    "\n",
    "response = oauth.get(\n",
    "    \"https://api.twitter.com/2/users/by\", params=params\n",
    ")\n",
    "\n",
    "if response.status_code != 200:\n",
    "    raise Exception(\n",
    "        \"Request returned an error: {} {}\".format(response.status_code, response.text)\n",
    "    )\n",
    "\n",
    "print(\"Response code: {}\".format(response.status_code))\n",
    "\n",
    "json_response = response.json()\n",
    "\n",
    "print(json.dumps(json_response, indent=4, sort_keys=True))"
   ]
  },
  {
   "cell_type": "code",
   "execution_count": null,
   "id": "368b32d4",
   "metadata": {},
   "outputs": [],
   "source": []
  }
 ],
 "metadata": {
  "kernelspec": {
   "display_name": "Python 3 (ipykernel)",
   "language": "python",
   "name": "python3"
  },
  "language_info": {
   "codemirror_mode": {
    "name": "ipython",
    "version": 3
   },
   "file_extension": ".py",
   "mimetype": "text/x-python",
   "name": "python",
   "nbconvert_exporter": "python",
   "pygments_lexer": "ipython3",
   "version": "3.9.13"
  }
 },
 "nbformat": 4,
 "nbformat_minor": 5
}
